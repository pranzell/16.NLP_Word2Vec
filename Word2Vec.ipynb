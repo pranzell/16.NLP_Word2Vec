{
 "cells": [
  {
   "cell_type": "markdown",
   "metadata": {},
   "source": [
    "## Vector Representations: word2vec in Python 3.6"
   ]
  },
  {
   "cell_type": "markdown",
   "metadata": {},
   "source": [
    "DOCUMENTATION \n",
    "https://radimrehurek.com/gensim/models/word2vec.html"
   ]
  },
  {
   "cell_type": "markdown",
   "metadata": {},
   "source": [
    "https://rare-technologies.com/word2vec-tutorial/"
   ]
  },
  {
   "cell_type": "markdown",
   "metadata": {},
   "source": [
    "http://mccormickml.com/2016/04/19/word2vec-tutorial-the-skip-gram-model/"
   ]
  },
  {
   "cell_type": "markdown",
   "metadata": {},
   "source": [
    "### Importing Packages"
   ]
  },
  {
   "cell_type": "code",
   "execution_count": 1,
   "metadata": {
    "collapsed": true
   },
   "outputs": [],
   "source": [
    "import numpy as np\n",
    "import pandas as pd\n",
    "\n",
    "# --- NLTK PACKAGE ---\n",
    "import nltk\n",
    "# Tokenizers\n",
    "from nltk.tokenize import word_tokenize, sent_tokenize, PunktSentenceTokenizer, RegexpTokenizer\n",
    "# Stemming and Lemmatizing\n",
    "from nltk.stem import PorterStemmer, WordNetLemmatizer\n",
    "# Stopwords\n",
    "from nltk.corpus import stopwords, state_union, brown, movie_reviews, treebank\n",
    "\n",
    "# --- GENSIM PACKAGE ---\n",
    "import gensim, logging\n",
    "from gensim.models import Word2Vec, Doc2Vec"
   ]
  },
  {
   "cell_type": "markdown",
   "metadata": {},
   "source": [
    "### Loading Datasets/Inputs"
   ]
  },
  {
   "cell_type": "code",
   "execution_count": 2,
   "metadata": {
    "collapsed": true
   },
   "outputs": [],
   "source": [
    "# Sentences\n",
    "brown_sents = brown.sents()\n",
    "movie_sents= movie_reviews.sents()\n",
    "treebank_sents = treebank.sents()"
   ]
  },
  {
   "cell_type": "code",
   "execution_count": 3,
   "metadata": {
    "collapsed": true
   },
   "outputs": [],
   "source": [
    "test_input = '''My name is Pranjal Pathak. \n",
    "                My gender is Male. I am 23 years old. \n",
    "                I live in Bangalore. I like driving. \n",
    "                I have lived in Varanasi before but I like Bangalore more. \n",
    "                Phani is a nice girl. Her gender is Female.'''"
   ]
  },
  {
   "cell_type": "markdown",
   "metadata": {},
   "source": [
    "### Tokenizing"
   ]
  },
  {
   "cell_type": "code",
   "execution_count": 4,
   "metadata": {
    "collapsed": true
   },
   "outputs": [],
   "source": [
    "my_sents = sent_tokenize(test_input)"
   ]
  },
  {
   "cell_type": "code",
   "execution_count": 5,
   "metadata": {
    "collapsed": true
   },
   "outputs": [],
   "source": [
    "my_sent_words = []\n",
    "\n",
    "for line in my_sents:\n",
    "    my_sent_words.append(word_tokenize(line))"
   ]
  },
  {
   "cell_type": "code",
   "execution_count": 13,
   "metadata": {},
   "outputs": [
    {
     "data": {
      "text/plain": [
       "[['My', 'name', 'is', 'Pranjal', 'Pathak', '.'],\n",
       " ['My', 'gender', 'is', 'Male', '.'],\n",
       " ['I', 'am', '23', 'years', 'old', '.'],\n",
       " ['I', 'live', 'in', 'Bangalore', '.'],\n",
       " ['I', 'like', 'driving', '.'],\n",
       " ['I',\n",
       "  'have',\n",
       "  'lived',\n",
       "  'in',\n",
       "  'Varanasi',\n",
       "  'before',\n",
       "  'but',\n",
       "  'I',\n",
       "  'like',\n",
       "  'Bangalore',\n",
       "  'more',\n",
       "  '.'],\n",
       " ['Phani', 'is', 'a', 'nice', 'girl', '.'],\n",
       " ['Her', 'gender', 'is', 'Female', '.']]"
      ]
     },
     "execution_count": 13,
     "metadata": {},
     "output_type": "execute_result"
    }
   ],
   "source": [
    "my_sent_words"
   ]
  },
  {
   "cell_type": "markdown",
   "metadata": {},
   "source": [
    "### MODEL"
   ]
  },
  {
   "cell_type": "code",
   "execution_count": 14,
   "metadata": {
    "collapsed": true
   },
   "outputs": [],
   "source": [
    "''' MODEL ARCHITECTURE\n",
    "\n",
    "    Vocab(V) = {word1, word2, word3,...., wordV}; Set of all unique words in the input doc\n",
    "    \n",
    "                  Input = Word1 [1,0,0,0,.....0]; V dim\n",
    "           Hidden Layer = 600 Neurons; Weights  = word1: w1,w2,w3,....wn; N dim weights\n",
    "    Second Hidden Layer = 600 Neurons; Weights' = w'1,w'2,w'3,....w'n; N dim weights'\n",
    "        Output(Softmax) = [0.78, 0.21, 0.11, ....]; V dim (Prob of relation of word1 with other words)\n",
    "        \n",
    "    KEY--\n",
    "    `size` is the dimensionality of the feature vectors = 100; 100 weights or features(w0,w1,w2......w99)\n",
    "    `window` is the maximum distance between the current and predicted word within a sentence.\n",
    "    `min_count` = ignore all words with total frequency lower than this.\n",
    "'''\n",
    "\n",
    "## Training our model with our input data\n",
    "model_word2vec = Word2Vec(my_sent_words, size = 100, window = 10, hs=1, negative=0, workers = 4, min_count=1)"
   ]
  },
  {
   "cell_type": "markdown",
   "metadata": {},
   "source": [
    "### Word2Vec Methods"
   ]
  },
  {
   "cell_type": "code",
   "execution_count": 15,
   "metadata": {},
   "outputs": [
    {
     "data": {
      "text/plain": [
       "[('.', 0.17852124571800232),\n",
       " ('but', 0.16687831282615662),\n",
       " ('name', 0.11936233937740326),\n",
       " ('gender', 0.11596344411373138),\n",
       " ('driving', 0.102081798017025)]"
      ]
     },
     "execution_count": 15,
     "metadata": {},
     "output_type": "execute_result"
    }
   ],
   "source": [
    "# Most Similar n words with prob\n",
    "model_word2vec.most_similar('Varanasi', topn=5)"
   ]
  },
  {
   "cell_type": "code",
   "execution_count": null,
   "metadata": {
    "collapsed": true
   },
   "outputs": [],
   "source": [
    "model_word2vec.doesnt_match(\"Pranjal\")"
   ]
  },
  {
   "cell_type": "code",
   "execution_count": null,
   "metadata": {
    "collapsed": true
   },
   "outputs": [],
   "source": [
    "# Comparison between two words\n",
    "model_word2vec.similarity('Bangalore', 'My')*100"
   ]
  },
  {
   "cell_type": "code",
   "execution_count": null,
   "metadata": {
    "collapsed": true,
    "scrolled": false
   },
   "outputs": [],
   "source": [
    "# Array of Vectors\n",
    "model_word2vec['Bangalore']"
   ]
  },
  {
   "cell_type": "code",
   "execution_count": null,
   "metadata": {
    "collapsed": true
   },
   "outputs": [],
   "source": [
    "model_word2vec.score([\"My name is Pranjal\".split()])[0]"
   ]
  },
  {
   "cell_type": "code",
   "execution_count": null,
   "metadata": {
    "collapsed": true
   },
   "outputs": [],
   "source": [
    "model_word2vec.most_similar(positive=['Male', 'Female'], negative=['Pranjal'])"
   ]
  },
  {
   "cell_type": "code",
   "execution_count": null,
   "metadata": {
    "collapsed": true
   },
   "outputs": [],
   "source": [
    "model_word2vec.most_similar_cosmul(positive=['Male', 'Female'], negative=['Pranjal'])"
   ]
  },
  {
   "cell_type": "markdown",
   "metadata": {},
   "source": [
    "#### NLTK Corporas"
   ]
  },
  {
   "cell_type": "code",
   "execution_count": null,
   "metadata": {
    "collapsed": true
   },
   "outputs": [],
   "source": [
    "b = Word2Vec(brown_sents)\n",
    "mr = Word2Vec(movie_sents)\n",
    "t = Word2Vec(treebank_sents)"
   ]
  },
  {
   "cell_type": "code",
   "execution_count": null,
   "metadata": {
    "collapsed": true,
    "scrolled": true
   },
   "outputs": [],
   "source": [
    "b.most_similar('king', topn=5)"
   ]
  }
 ],
 "metadata": {
  "kernelspec": {
   "display_name": "Python 3",
   "language": "python",
   "name": "python3"
  },
  "language_info": {
   "codemirror_mode": {
    "name": "ipython",
    "version": 3
   },
   "file_extension": ".py",
   "mimetype": "text/x-python",
   "name": "python",
   "nbconvert_exporter": "python",
   "pygments_lexer": "ipython3",
   "version": "3.6.0"
  }
 },
 "nbformat": 4,
 "nbformat_minor": 2
}
