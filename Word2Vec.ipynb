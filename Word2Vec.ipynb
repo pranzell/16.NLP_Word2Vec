{
 "cells": [
  {
   "cell_type": "markdown",
   "metadata": {},
   "source": [
    "## Vector Representations: word2vec in Python 3.6"
   ]
  },
  {
   "cell_type": "markdown",
   "metadata": {},
   "source": [
    "DOCUMENTATION \n",
    "https://radimrehurek.com/gensim/models/word2vec.html"
   ]
  },
  {
   "cell_type": "markdown",
   "metadata": {},
   "source": [
    "https://rare-technologies.com/word2vec-tutorial/"
   ]
  },
  {
   "cell_type": "markdown",
   "metadata": {},
   "source": [
    "http://mccormickml.com/2016/04/19/word2vec-tutorial-the-skip-gram-model/"
   ]
  },
  {
   "cell_type": "markdown",
   "metadata": {},
   "source": [
    "### Importing Packages"
   ]
  },
  {
   "cell_type": "code",
   "execution_count": 1,
   "metadata": {
    "collapsed": true
   },
   "outputs": [],
   "source": [
    "import numpy as np\n",
    "import pandas as pd\n",
    "\n",
    "# --- NLTK PACKAGE ---\n",
    "import nltk\n",
    "# Tokenizers\n",
    "from nltk.tokenize import word_tokenize, sent_tokenize, PunktSentenceTokenizer, RegexpTokenizer\n",
    "# Stemming and Lemmatizing\n",
    "from nltk.stem import PorterStemmer, WordNetLemmatizer\n",
    "# Stopwords\n",
    "from nltk.corpus import stopwords, state_union, brown, movie_reviews, treebank\n",
    "\n",
    "# --- GENSIM PACKAGE ---\n",
    "import gensim, logging\n",
    "from gensim.models import Word2Vec, Doc2Vec"
   ]
  },
  {
   "cell_type": "markdown",
   "metadata": {},
   "source": [
    "### Loading Datasets/Inputs"
   ]
  },
  {
   "cell_type": "code",
   "execution_count": 2,
   "metadata": {
    "collapsed": true
   },
   "outputs": [],
   "source": [
    "# Sentences\n",
    "brown_sents = brown.sents()\n",
    "movie_sents= movie_reviews.sents()\n",
    "treebank_sents = treebank.sents()"
   ]
  },
  {
   "cell_type": "code",
   "execution_count": 3,
   "metadata": {
    "collapsed": true
   },
   "outputs": [],
   "source": [
    "test_input = '''My name is Pranjal Pathak. \n",
    "                My gender is Male. I am 23 years old. \n",
    "                I live in Bangalore. I like driving. \n",
    "                I have lived in Varanasi before but I like Bangalore more. \n",
    "                Phani is a nice girl. Her gender is Female.'''"
   ]
  },
  {
   "cell_type": "markdown",
   "metadata": {},
   "source": [
    "### Tokenizing"
   ]
  },
  {
   "cell_type": "code",
   "execution_count": 4,
   "metadata": {
    "collapsed": true
   },
   "outputs": [],
   "source": [
    "my_sents = sent_tokenize(test_input)"
   ]
  },
  {
   "cell_type": "code",
   "execution_count": 5,
   "metadata": {
    "collapsed": true
   },
   "outputs": [],
   "source": [
    "my_sent_words = []\n",
    "\n",
    "for line in my_sents:\n",
    "    my_sent_words.append(word_tokenize(line))"
   ]
  },
  {
   "cell_type": "code",
   "execution_count": 6,
   "metadata": {},
   "outputs": [
    {
     "data": {
      "text/plain": [
       "[['My', 'name', 'is', 'Pranjal', 'Pathak', '.'],\n",
       " ['My', 'gender', 'is', 'Male', '.'],\n",
       " ['I', 'am', '23', 'years', 'old', '.'],\n",
       " ['I', 'live', 'in', 'Bangalore', '.'],\n",
       " ['I', 'like', 'driving', '.'],\n",
       " ['I',\n",
       "  'have',\n",
       "  'lived',\n",
       "  'in',\n",
       "  'Varanasi',\n",
       "  'before',\n",
       "  'but',\n",
       "  'I',\n",
       "  'like',\n",
       "  'Bangalore',\n",
       "  'more',\n",
       "  '.'],\n",
       " ['Phani', 'is', 'a', 'nice', 'girl', '.'],\n",
       " ['Her', 'gender', 'is', 'Female', '.']]"
      ]
     },
     "execution_count": 6,
     "metadata": {},
     "output_type": "execute_result"
    }
   ],
   "source": [
    "my_sent_words"
   ]
  },
  {
   "cell_type": "markdown",
   "metadata": {},
   "source": [
    "### MODEL"
   ]
  },
  {
   "cell_type": "code",
   "execution_count": 7,
   "metadata": {
    "collapsed": true
   },
   "outputs": [],
   "source": [
    "''' MODEL ARCHITECTURE\n",
    "\n",
    "    Vocab(V) = {word1, word2, word3,...., wordV}; Set of all unique words in the input doc\n",
    "    \n",
    "                  Input = Word1 [1,0,0,0,.....0]; V dim\n",
    "           Hidden Layer = 600 Neurons; Weights  = word1: w1,w2,w3,....wn; N dim weights\n",
    "    Second Hidden Layer = 600 Neurons; Weights' = w'1,w'2,w'3,....w'n; N dim weights'\n",
    "        Output(Softmax) = [0.78, 0.21, 0.11, ....]; V dim (Prob of relation of word1 with other words)\n",
    "        \n",
    "    KEY--\n",
    "    `size` is the dimensionality of the feature vectors = 100; 100 weights or features(w0,w1,w2......w99)\n",
    "    `window` is the maximum distance between the current and predicted word within a sentence.\n",
    "    `min_count` = ignore all words with total frequency lower than this.\n",
    "'''\n",
    "\n",
    "## Training our model with our input data\n",
    "model_word2vec = Word2Vec(my_sent_words, size = 100, window = 10, hs=1, negative=0, workers = 4, min_count=1)"
   ]
  },
  {
   "cell_type": "markdown",
   "metadata": {},
   "source": [
    "### Word2Vec Methods"
   ]
  },
  {
   "cell_type": "code",
   "execution_count": 8,
   "metadata": {},
   "outputs": [
    {
     "data": {
      "text/plain": [
       "[('Her', 0.14535093307495117),\n",
       " ('.', 0.1166599690914154),\n",
       " ('23', 0.11133888363838196),\n",
       " ('nice', 0.09093289077281952),\n",
       " ('I', 0.08679273724555969)]"
      ]
     },
     "execution_count": 8,
     "metadata": {},
     "output_type": "execute_result"
    }
   ],
   "source": [
    "# Most Similar n words with prob\n",
    "model_word2vec.most_similar('Varanasi', topn=5)"
   ]
  },
  {
   "cell_type": "code",
   "execution_count": 9,
   "metadata": {},
   "outputs": [
    {
     "data": {
      "text/plain": [
       "'a'"
      ]
     },
     "execution_count": 9,
     "metadata": {},
     "output_type": "execute_result"
    }
   ],
   "source": [
    "model_word2vec.doesnt_match(\"Pranjal\")"
   ]
  },
  {
   "cell_type": "code",
   "execution_count": 10,
   "metadata": {},
   "outputs": [
    {
     "data": {
      "text/plain": [
       "6.2146100324732911"
      ]
     },
     "execution_count": 10,
     "metadata": {},
     "output_type": "execute_result"
    }
   ],
   "source": [
    "# Comparison between two words\n",
    "model_word2vec.similarity('Bangalore', 'My')*100"
   ]
  },
  {
   "cell_type": "code",
   "execution_count": 11,
   "metadata": {
    "scrolled": false
   },
   "outputs": [
    {
     "data": {
      "text/plain": [
       "array([-0.00014494,  0.00131348,  0.00441421,  0.00300143,  0.00473957,\n",
       "        0.00296812, -0.00146338, -0.0013057 ,  0.00242703,  0.00011909,\n",
       "       -0.00186478, -0.00403753, -0.0013407 ,  0.00423598, -0.0024287 ,\n",
       "       -0.00244268,  0.00202265,  0.00329478,  0.00188473,  0.00108233,\n",
       "       -0.0017921 , -0.00485223,  0.00362264, -0.00436838, -0.00102882,\n",
       "        0.00131091, -0.00204977,  0.00246129,  0.00071651,  0.00208738,\n",
       "        0.00320785, -0.00190853, -0.00083322,  0.0049674 ,  0.00241672,\n",
       "       -0.0021599 , -0.00330988,  0.00305857, -0.00023285, -0.00459173,\n",
       "       -0.00202542, -0.00114177, -0.00228285, -0.00089524,  0.0035717 ,\n",
       "       -0.00485337,  0.00451534,  0.00496266,  0.00022294,  0.00022845,\n",
       "       -0.00487773, -0.00331864,  0.00469837, -0.00227686,  0.00336816,\n",
       "       -0.00282172, -0.00391813, -0.00362246, -0.00134024,  0.0028178 ,\n",
       "        0.00066636, -0.00085644, -0.00201165,  0.0043496 , -0.00130573,\n",
       "        0.00073373, -0.00222039, -0.00478293, -0.00183628, -0.00270806,\n",
       "       -0.00449689, -0.00152488, -0.0001084 ,  0.00148274, -0.00273007,\n",
       "        0.0026852 ,  0.00130264,  0.00022886, -0.00400494, -0.0011528 ,\n",
       "       -0.00062393, -0.00326466,  0.00307476,  0.00246201,  0.00497447,\n",
       "        0.00419374, -0.00389039, -0.00121507, -0.00235363,  0.0013769 ,\n",
       "        0.00499899, -0.00321758,  0.00229313, -0.00176633,  0.00034439,\n",
       "       -0.00228305, -0.00101603, -0.00293623,  0.00442884, -0.00139043], dtype=float32)"
      ]
     },
     "execution_count": 11,
     "metadata": {},
     "output_type": "execute_result"
    }
   ],
   "source": [
    "# Array of Vectors\n",
    "model_word2vec['Bangalore']"
   ]
  },
  {
   "cell_type": "code",
   "execution_count": 12,
   "metadata": {},
   "outputs": [
    {
     "data": {
      "text/plain": [
       "-14.195734"
      ]
     },
     "execution_count": 12,
     "metadata": {},
     "output_type": "execute_result"
    }
   ],
   "source": [
    "model_word2vec.score([\"My name is Pranjal\".split()])[0]"
   ]
  },
  {
   "cell_type": "code",
   "execution_count": 13,
   "metadata": {},
   "outputs": [
    {
     "data": {
      "text/plain": [
       "[('.', 0.27271872758865356),\n",
       " ('a', 0.20817896723747253),\n",
       " ('like', 0.18685702979564667),\n",
       " ('Her', 0.18171341717243195),\n",
       " ('before', 0.1614219844341278),\n",
       " ('in', 0.13635139167308807),\n",
       " ('Phani', 0.1289747804403305),\n",
       " ('lived', 0.1246543675661087),\n",
       " ('girl', 0.11097618192434311),\n",
       " ('nice', 0.0878562405705452)]"
      ]
     },
     "execution_count": 13,
     "metadata": {},
     "output_type": "execute_result"
    }
   ],
   "source": [
    "model_word2vec.most_similar(positive=['Male', 'Female'], negative=['Pranjal'])"
   ]
  },
  {
   "cell_type": "code",
   "execution_count": 14,
   "metadata": {},
   "outputs": [
    {
     "data": {
      "text/plain": [
       "[('.', 0.7263284921646118),\n",
       " ('a', 0.6934047937393188),\n",
       " ('Her', 0.6659020781517029),\n",
       " ('like', 0.6518145203590393),\n",
       " ('before', 0.6323356628417969),\n",
       " ('in', 0.6142411828041077),\n",
       " ('lived', 0.597561776638031),\n",
       " ('Phani', 0.5940378904342651),\n",
       " ('girl', 0.5771189332008362),\n",
       " ('nice', 0.576112687587738)]"
      ]
     },
     "execution_count": 14,
     "metadata": {},
     "output_type": "execute_result"
    }
   ],
   "source": [
    "model_word2vec.most_similar_cosmul(positive=['Male', 'Female'], negative=['Pranjal'])"
   ]
  }
 ],
 "metadata": {
  "kernelspec": {
   "display_name": "Python 3",
   "language": "python",
   "name": "python3"
  },
  "language_info": {
   "codemirror_mode": {
    "name": "ipython",
    "version": 3
   },
   "file_extension": ".py",
   "mimetype": "text/x-python",
   "name": "python",
   "nbconvert_exporter": "python",
   "pygments_lexer": "ipython3",
   "version": "3.6.0"
  }
 },
 "nbformat": 4,
 "nbformat_minor": 2
}
